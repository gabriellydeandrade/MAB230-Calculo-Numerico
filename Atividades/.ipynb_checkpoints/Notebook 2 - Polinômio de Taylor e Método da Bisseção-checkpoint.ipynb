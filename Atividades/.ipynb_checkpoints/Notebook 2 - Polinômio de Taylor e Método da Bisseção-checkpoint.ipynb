{
 "cells": [
  {
   "cell_type": "markdown",
   "metadata": {},
   "source": [
    "# Notebook 2 - Polinômio de Taylor e Método da Bisseção"
   ]
  },
  {
   "cell_type": "markdown",
   "metadata": {},
   "source": [
    "Gabrielly de Andrade da Silva - 116149740"
   ]
  },
  {
   "cell_type": "markdown",
   "metadata": {},
   "source": [
    "## 1. Polinômio de Taylor"
   ]
  },
  {
   "cell_type": "markdown",
   "metadata": {},
   "source": [
    "O polinômio de Taylor (Pn) descreve um polinômio em torno de um determinado ponto. Vamos denotar o grau como **n**, a função **f** e o ponto **a**\n",
    "\n",
    "$$\n",
    "    Pn(x) = f(a) + f'(a)(x-a) + \\frac{f''(a)(x-a)^2}{2} + \\frac{f'''(a)(x-a)^3}{3!} + ... + \\frac{f'''(a)(x-a)^n}{n!} \n",
    "$$\n",
    "\n",
    "**Exemplo:**\n",
    "\n",
    "Considere $fn(x) = e^x$\n",
    "\n",
    "Sabemos que todas as suas derivadas valem o próprio $e^x$\n",
    "\n",
    "Com isso temos o seguinte polinômio de Taylor:\n",
    "\n",
    "$$\n",
    "    Pn(x) = e^x + e^xx + \\frac{e^xx^2}{2} + ... + \\frac{e^xx^n}{n!}\n",
    "$$\n",
    "\n",
    "Considerando o ponto a=0 e n=3, o valor da função f(a) no ponto vale $e^a = e^0 = 1$, com isso temos que:\n",
    "\n",
    "$$\n",
    "    Pn(x) = 1 + x + \\frac{x^2}{2} + \\frac{x^3}{3!}\n",
    "$$\n",
    "\n",
    "Considerando o valor de $x=1$, temos que o valor da função deve valer $f(1)=e$, com isso o polinômio também deve aproximar desse valor $Pn(1)=e$.\n",
    "\n",
    "Sendo assim, o valor da função $e^x$ também é descrita como um somatório dos termos\n",
    "\n",
    "$$\n",
    "    1 + x + \\frac{x^2}{2} + ... + \\frac{x^n}{n!}\n",
    "$$\n",
    "\n",
    "sendo n o valor do grau do polinômio.\n",
    "\n",
    "Vamos realizar alguns testes com o Julia"
   ]
  },
  {
   "cell_type": "code",
   "execution_count": 4,
   "metadata": {},
   "outputs": [
    {
     "data": {
      "text/plain": [
       "ℯ = 2.7182818284590..."
      ]
     },
     "execution_count": 4,
     "metadata": {},
     "output_type": "execute_result"
    }
   ],
   "source": [
    "MathConstants.e"
   ]
  },
  {
   "cell_type": "code",
   "execution_count": 6,
   "metadata": {
    "scrolled": true
   },
   "outputs": [
    {
     "data": {
      "text/plain": [
       "2.718281828459045"
      ]
     },
     "execution_count": 6,
     "metadata": {},
     "output_type": "execute_result"
    }
   ],
   "source": [
    "exp(1)"
   ]
  },
  {
   "cell_type": "code",
   "execution_count": 69,
   "metadata": {
    "scrolled": true
   },
   "outputs": [
    {
     "name": "stdout",
     "output_type": "stream",
     "text": [
      "1\n",
      "2\n",
      "3\n",
      "4\n",
      "5\n",
      "6\n",
      "7\n",
      "8\n",
      "9\n",
      "10\n"
     ]
    }
   ],
   "source": [
    "n = 4\n",
    "for i = 1:10\n",
    "    println(i)\n",
    "end"
   ]
  },
  {
   "cell_type": "code",
   "execution_count": 96,
   "metadata": {
    "scrolled": true
   },
   "outputs": [
    {
     "data": {
      "text/plain": [
       "exp_por_taylor (generic function with 1 method)"
      ]
     },
     "execution_count": 96,
     "metadata": {},
     "output_type": "execute_result"
    }
   ],
   "source": [
    "function exp_por_taylor(x, n)\n",
    "    # Calcula a exponencial de e^x com n termos pelo polinômio de Taylor\n",
    "    \n",
    "    soma = 1.0\n",
    "    for i = 1:n\n",
    "        soma += x^i / factorial(i) # Poderia ser factorial(BigInt(i)) mas não tem necessidade pois os termos tentes a zero\n",
    "    end\n",
    "    return soma\n",
    "end"
   ]
  },
  {
   "cell_type": "code",
   "execution_count": 102,
   "metadata": {},
   "outputs": [
    {
     "data": {
      "text/plain": [
       "2.0"
      ]
     },
     "execution_count": 102,
     "metadata": {},
     "output_type": "execute_result"
    }
   ],
   "source": [
    "exp_por_taylor(1.0, 1)"
   ]
  },
  {
   "cell_type": "code",
   "execution_count": 98,
   "metadata": {},
   "outputs": [
    {
     "name": "stdout",
     "output_type": "stream",
     "text": [
      "Somatório: 2.7182818284590455\n",
      "Quantidade de termos (grau do polinômio): 17\n"
     ]
    }
   ],
   "source": [
    "# Função genérica que calcula a quantidade de termos necessárias\n",
    "n = 0\n",
    "somatorio = exp_por_taylor(1, n)\n",
    "while somatorio <= exp(1)\n",
    "    n += 1\n",
    "    somatorio = exp_por_taylor(1, n)\n",
    "end\n",
    "\n",
    "println(\"Somatório: \", somatorio)\n",
    "println(\"Quantidade de termos (grau do polinômio): \", n)\n",
    "\n"
   ]
  },
  {
   "cell_type": "code",
   "execution_count": 106,
   "metadata": {},
   "outputs": [
    {
     "data": {
      "text/plain": [
       "4.440892098500626e-16"
      ]
     },
     "execution_count": 106,
     "metadata": {},
     "output_type": "execute_result"
    }
   ],
   "source": [
    "# Calculando a diferença do erro absoluta\n",
    "\n",
    "exp_por_taylor(1.0, 17) - exp(1.0)"
   ]
  },
  {
   "cell_type": "code",
   "execution_count": 107,
   "metadata": {},
   "outputs": [
    {
     "ename": "LoadError",
     "evalue": "OverflowError: 21 is too large to look up in the table; consider using `factorial(big(21))` instead",
     "output_type": "error",
     "traceback": [
      "OverflowError: 21 is too large to look up in the table; consider using `factorial(big(21))` instead",
      "",
      "Stacktrace:",
      " [1] factorial_lookup at ./combinatorics.jl:19 [inlined]",
      " [2] factorial at ./combinatorics.jl:27 [inlined]",
      " [3] exp_por_taylor(::Float64, ::Int64) at ./In[96]:6",
      " [4] top-level scope at In[107]:2",
      " [5] include_string(::Function, ::Module, ::String, ::String) at ./loading.jl:1091"
     ]
    }
   ],
   "source": [
    "# Caso que da overflow por conta do 21!\n",
    "exp_por_taylor(5.0, 30) - exp(5.0)"
   ]
  }
 ],
 "metadata": {
  "kernelspec": {
   "display_name": "Julia 1.5.3",
   "language": "julia",
   "name": "julia-1.5"
  },
  "language_info": {
   "file_extension": ".jl",
   "mimetype": "application/julia",
   "name": "julia",
   "version": "1.5.3"
  }
 },
 "nbformat": 4,
 "nbformat_minor": 4
}
