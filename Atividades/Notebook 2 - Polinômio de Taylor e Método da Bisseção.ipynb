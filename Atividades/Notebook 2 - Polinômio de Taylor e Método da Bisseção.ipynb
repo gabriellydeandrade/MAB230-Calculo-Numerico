{
 "cells": [
  {
   "cell_type": "markdown",
   "metadata": {},
   "source": [
    "# Notebook 2 - Polinômio de Taylor e Método da Bisseção"
   ]
  },
  {
   "cell_type": "markdown",
   "metadata": {},
   "source": [
    "Gabrielly de Andrade da Silva - 116149740"
   ]
  },
  {
   "cell_type": "markdown",
   "metadata": {},
   "source": [
    "## 1. Polinômio de Taylor"
   ]
  },
  {
   "cell_type": "markdown",
   "metadata": {},
   "source": [
    "O polinômio de Taylor (Pn) descreve um polinômio em torno de um determinado ponto. Vamos denotar o grau como **n**, a função **f** e o ponto **a**\n",
    "\n",
    "$$\n",
    "    Pn(x) = f(a) + f'(a)(x-a) + \\frac{f''(a)(x-a)^2}{2} + \\frac{f'''(a)(x-a)^3}{3!} + ... + \\frac{f'''(a)(x-a)^n}{n!} \n",
    "$$\n",
    "\n",
    "**Exemplo:**\n",
    "\n",
    "Considere $fn(x) = e^x$\n",
    "\n",
    "Sabemos que todas as suas derivadas valem o próprio $e^x$\n",
    "\n",
    "Com isso temos o seguinte polinômio de Taylor:\n",
    "\n",
    "$$\n",
    "    Pn(x) = e^x + e^xx + \\frac{e^xx^2}{2} + ... + \\frac{e^xx^n}{n!}\n",
    "$$\n",
    "\n",
    "Considerando o ponto a=0 e n=3, o valor da função f(a) no ponto vale $e^a = e^0 = 1$, com isso temos que:\n",
    "\n",
    "$$\n",
    "    Pn(x) = 1 + x + \\frac{x^2}{2} + \\frac{x^3}{3!}\n",
    "$$\n",
    "\n",
    "Considerando o valor de $x=1$, temos que o valor da função deve valer $f(1)=e$, com isso o polinômio também deve aproximar desse valor $Pn(1)=e$.\n",
    "\n",
    "Sendo assim, o valor da função $e^x$ também é descrita como um somatório dos termos\n",
    "\n",
    "$$\n",
    "    1 + x + \\frac{x^2}{2} + ... + \\frac{x^n}{n!}\n",
    "$$\n",
    "\n",
    "sendo n o valor do grau do polinômio.\n",
    "\n",
    "Vamos realizar alguns testes com o Julia"
   ]
  },
  {
   "cell_type": "code",
   "execution_count": null,
   "metadata": {},
   "outputs": [],
   "source": [
    "MathConstants.e"
   ]
  },
  {
   "cell_type": "code",
   "execution_count": null,
   "metadata": {
    "scrolled": true
   },
   "outputs": [],
   "source": [
    "exp(1)"
   ]
  },
  {
   "cell_type": "code",
   "execution_count": null,
   "metadata": {
    "scrolled": true
   },
   "outputs": [],
   "source": [
    "function exp_por_taylor(x, n)\n",
    "    # Calcula a exponencial de e^x com n termos pelo polinômio de Taylor\n",
    "    \n",
    "    soma = 1.0\n",
    "    for i = 1:n\n",
    "        soma += x^i / factorial(i) # Poderia ser factorial(BigInt(i)) mas não tem necessidade pois os termos tentes a zero\n",
    "    end\n",
    "    return soma\n",
    "end"
   ]
  },
  {
   "cell_type": "code",
   "execution_count": null,
   "metadata": {},
   "outputs": [],
   "source": [
    "exp_por_taylor(1.0, 1)"
   ]
  },
  {
   "cell_type": "code",
   "execution_count": null,
   "metadata": {},
   "outputs": [],
   "source": [
    "# Função genérica que calcula a quantidade de termos necessárias\n",
    "n = 0\n",
    "somatorio = exp_por_taylor(1, n)\n",
    "while somatorio <= exp(1)\n",
    "    n += 1\n",
    "    somatorio = exp_por_taylor(1, n)\n",
    "end\n",
    "\n",
    "println(\"Somatório: \", somatorio)\n",
    "println(\"Quantidade de termos (grau do polinômio): \", n)\n",
    "\n"
   ]
  },
  {
   "cell_type": "code",
   "execution_count": null,
   "metadata": {},
   "outputs": [],
   "source": [
    "# Calculando a diferença do erro absoluta\n",
    "\n",
    "exp_por_taylor(1.0, 17) - exp(1.0)"
   ]
  },
  {
   "cell_type": "code",
   "execution_count": null,
   "metadata": {
    "scrolled": true
   },
   "outputs": [],
   "source": [
    "# Caso que da overflow por conta do 21!\n",
    "exp_por_taylor(5.0, 30) - exp(5.0)"
   ]
  },
  {
   "cell_type": "code",
   "execution_count": null,
   "metadata": {},
   "outputs": [],
   "source": [
    "function exp_por_taylor_2(x, n)\n",
    "    # Calcula a exponencial de e^x com n termos pelo polinômio de Taylor\n",
    "    \n",
    "    soma = 1.0\n",
    "    termo_anterior = 1.0\n",
    "    for i = 1:n\n",
    "        termo_anterior *= x / i\n",
    "        soma += termo_anterior\n",
    "    end\n",
    "    return soma\n",
    "end"
   ]
  },
  {
   "cell_type": "markdown",
   "metadata": {},
   "source": [
    "Com essa nova função não temos Overflow pois estamos calculando o próximo termo a partir do resultado do termo anterior\n",
    "\n",
    "$$\n",
    "    a_{n} = \\frac{x^n}{n!} = \\frac{x}{n} * \\frac{x^(n-1)}{(n-1)!}\n",
    "$$"
   ]
  },
  {
   "cell_type": "code",
   "execution_count": null,
   "metadata": {},
   "outputs": [],
   "source": [
    "exp_por_taylor_2(5.0, 32)"
   ]
  },
  {
   "cell_type": "code",
   "execution_count": null,
   "metadata": {},
   "outputs": [],
   "source": [
    "exp(5.0)"
   ]
  },
  {
   "cell_type": "markdown",
   "metadata": {},
   "source": [
    "Nota: diferentemente do que foi visto no [vídeo](https://www.youtube.com/watch?v=220qYWumBHI&feature=youtu.be&list=PLOOY0eChA1uyO7qjoupZ3979741csLLTE&t=4024), tanto o exponencial do Julia quanto da função calculada chegaram a um mesmo valor"
   ]
  },
  {
   "cell_type": "code",
   "execution_count": null,
   "metadata": {
    "scrolled": true
   },
   "outputs": [],
   "source": [
    "using Plots\n",
    "N = collect(1:40)\n",
    "x = 1\n",
    "Erro = [abs(exp_por_taylor_2(x, n) - exp(x)) / exp(x) for n in N]\n",
    "\n",
    "scatter(N, Erro, yaxis=:log)\n",
    "xlabel!(\"Grau do polinômio (Quantidade de termos + 1)\")\n",
    "ylabel!(\"|exp_calculada($x, n) - exp($x)| / exp($x)\")\n",
    "title!(\"Erro relativo para aproximação de exponencial\")"
   ]
  },
  {
   "cell_type": "code",
   "execution_count": null,
   "metadata": {},
   "outputs": [],
   "source": [
    "# Outra abordagem que simula o exp(x) do Julia\n",
    "\n",
    "function exp_por_taylor_3(x)\n",
    "    # Calcula a exponencial de e^x com n termos pelo polinômio de Taylor\n",
    "    \n",
    "    soma = 1.0\n",
    "    termo_anterior = 1.0\n",
    "    i = 1\n",
    "    while soma + termo_anterior != soma\n",
    "        termo_anterior *= x / i\n",
    "        soma += termo_anterior\n",
    "        i +=1\n",
    "    end\n",
    "    return soma\n",
    "end"
   ]
  },
  {
   "cell_type": "code",
   "execution_count": null,
   "metadata": {},
   "outputs": [],
   "source": [
    "exp_por_taylor_3(1)"
   ]
  },
  {
   "cell_type": "code",
   "execution_count": null,
   "metadata": {},
   "outputs": [],
   "source": [
    "exp(1)"
   ]
  },
  {
   "cell_type": "code",
   "execution_count": null,
   "metadata": {
    "scrolled": true
   },
   "outputs": [],
   "source": [
    "exp_por_taylor_3(1) - exp(1)"
   ]
  },
  {
   "cell_type": "code",
   "execution_count": null,
   "metadata": {
    "scrolled": true
   },
   "outputs": [],
   "source": [
    "using Plots\n",
    "X = range(0.0, 10.0, length=100)\n",
    "Erro = [max(abs(exp_por_taylor_3(x) - exp(x)) / exp(x), 1e-16) for x in X]\n",
    "\n",
    "plot(X, Erro, yaxis=:log)\n",
    "xlabel!(\"Grau do polinômio (Quantidade de termos + 1)\")\n",
    "ylabel!(\"Módulo do erro relativo\")\n",
    "title!(\"Erro relativo para aproximação de exponencial\")\n",
    "# Erro precisa estar próximo da precisão da máquina, 10^-16"
   ]
  },
  {
   "cell_type": "markdown",
   "metadata": {},
   "source": [
    "### Aproximando com séries alternadas\n",
    "\n",
    "Séries alternadas são difíceis de manter, veja o erro na plotagem abaixo\n"
   ]
  },
  {
   "cell_type": "code",
   "execution_count": null,
   "metadata": {
    "scrolled": true
   },
   "outputs": [],
   "source": [
    "\n",
    "using Plots\n",
    "X = range(-10.0, 10.0, length=100)\n",
    "Erro = [max(abs(exp_por_taylor_3(x) - exp(x)) / exp(x), 1e-16) for x in X]\n",
    "\n",
    "plot(X, Erro, yaxis=:log)\n",
    "xlabel!(\"Grau do polinômio (Quantidade de termos + 1)\")\n",
    "ylabel!(\"Módulo do erro relativo\")\n",
    "title!(\"Erro relativo para aproximação de exponencial\")"
   ]
  },
  {
   "cell_type": "code",
   "execution_count": null,
   "metadata": {},
   "outputs": [],
   "source": [
    "# Outra abordagem que simula o exp(x) do Julia, mas agora olhando para cálculos negativos\n",
    "\n",
    "function exp_por_taylor_4(x)\n",
    "    # Calcula a exponencial de e^x com n termos pelo polinômio de Taylor\n",
    "    \n",
    "    if  x>= 0\n",
    "        return exp_por_taylor_3(x)\n",
    "    else\n",
    "        return 1.0 / exp_por_taylor_3(-x)\n",
    "\n",
    "    end\n",
    "end"
   ]
  },
  {
   "cell_type": "code",
   "execution_count": null,
   "metadata": {
    "scrolled": true
   },
   "outputs": [],
   "source": [
    "using Plots\n",
    "X = range(-10.0, 10.0, length=100)\n",
    "Erro = [max(abs(exp_por_taylor_4(x) - exp(x)) / exp(x), 1e-16) for x in X]\n",
    "\n",
    "plot(X, Erro, yaxis=:log)\n",
    "xlabel!(\"Grau do polinômio (Quantidade de termos + 1)\")\n",
    "ylabel!(\"Módulo do erro relativo\")\n",
    "title!(\"Erro relativo para aproximação de exponencial\")\n"
   ]
  },
  {
   "cell_type": "markdown",
   "metadata": {},
   "source": [
    "## Calculando aproximação de pi"
   ]
  },
  {
   "cell_type": "markdown",
   "metadata": {},
   "source": [
    "Aproximação do valor de pi"
   ]
  },
  {
   "cell_type": "markdown",
   "metadata": {},
   "source": [
    "Seja a função $f(x)$ definida por $arctg(x)$, vamos calular uma aproximação usando o polinômio de Taylor. \n",
    "Sabemos que $f'(x) = \\frac{1}{1+x^2}$ e esse resultado também pode ser definido como a seguinte progressão geométrica (PG)\n",
    "\n",
    "$$\n",
    "    \\frac{1}{1+x^2} = 1 - x^2 + x^4 - x^6 + x^8 ...\n",
    "$$\n",
    "\n",
    "Integrando o resultado temos que:\n",
    "\n",
    "$$\n",
    "    x - \\frac{x^3}{3} + \\frac{x^5}{5} - \\frac{x^7}{7} + ...\n",
    "$$\n",
    "\n",
    "Nota: Um fato curioso foi descobrir que poderíamos simplificar com uma série ao invés de fazer todos os cálculos de derivada na mão"
   ]
  },
  {
   "cell_type": "code",
   "execution_count": null,
   "metadata": {},
   "outputs": [],
   "source": [
    "function pi_atan(n)\n",
    "    # pi ~= 4 * (1 - 1/3 + 1/5 - 1/7 + 1/9 para n termos)\n",
    "    # n   =      1    2     3     4     5\n",
    "    \n",
    "    sinal = 1.0\n",
    "    soma = 0.0\n",
    "    denominador = 1\n",
    "    \n",
    "    for i=1:n\n",
    "        soma += sinal * 1/denominador\n",
    "        sinal *= -1\n",
    "        denominador += 2\n",
    "    end\n",
    "    \n",
    "    return 4 * soma\n",
    "end"
   ]
  },
  {
   "cell_type": "code",
   "execution_count": null,
   "metadata": {},
   "outputs": [],
   "source": [
    "pi_atan(3)"
   ]
  },
  {
   "cell_type": "code",
   "execution_count": null,
   "metadata": {},
   "outputs": [],
   "source": [
    "4 * (1.0 - 1.0/3.0 + 1.0/5.0)"
   ]
  },
  {
   "cell_type": "code",
   "execution_count": null,
   "metadata": {},
   "outputs": [],
   "source": [
    "@assert pi_atan(3) ≈ 4 * (1.0 - 1.0/3.0 + 1.0/5.0)"
   ]
  },
  {
   "cell_type": "code",
   "execution_count": null,
   "metadata": {
    "scrolled": true
   },
   "outputs": [],
   "source": [
    "# Função genérica que calcula a soma de pi para n termos\n",
    "n = 10\n",
    "for i=1:n\n",
    "    println(\"Termos: \", i)\n",
    "    println(\"Somatório: \", pi_atan(i))\n",
    "    println(\"\")\n",
    "end\n",
    "\n",
    "# Nota: com poucos termos isso não é satisfatório, os valores oscilam e não convergem para uma maior precisão em número de casas"
   ]
  },
  {
   "cell_type": "code",
   "execution_count": null,
   "metadata": {},
   "outputs": [],
   "source": [
    "pi_atan(10000)"
   ]
  },
  {
   "cell_type": "code",
   "execution_count": null,
   "metadata": {},
   "outputs": [],
   "source": [
    "pi"
   ]
  },
  {
   "cell_type": "code",
   "execution_count": null,
   "metadata": {
    "scrolled": true
   },
   "outputs": [],
   "source": [
    "using Plots\n",
    "X = range(0, 10000, length=100)\n",
    "Erro = [max(abs(pi_atan(x) - pi) / pi, 1e-16) for x in X]\n",
    "\n",
    "plot(X, Erro, yaxis=:log)\n",
    "xlabel!(\"Termos\")\n",
    "ylabel!(\"Módulo do erro relativo\")\n",
    "title!(\"Erro relativo para aproximação de pi\")\n"
   ]
  },
  {
   "cell_type": "code",
   "execution_count": null,
   "metadata": {},
   "outputs": [],
   "source": []
  },
  {
   "cell_type": "markdown",
   "metadata": {},
   "source": [
    "**Nota:** Aqui temos um fato curioso, comparando com o exponencial anterior para termos um erro relativo baixo precisamos de muitos termos "
   ]
  },
  {
   "cell_type": "markdown",
   "metadata": {},
   "source": [
    "## 2. Zeros de função"
   ]
  },
  {
   "cell_type": "markdown",
   "metadata": {},
   "source": [
    "Nesse problema queremos calcular uma função que em um intervalo o seu valor seja zero $f(x) = 0$.\n",
    "\n",
    "Um caso comum: $xe^x = 1$"
   ]
  },
  {
   "cell_type": "code",
   "execution_count": null,
   "metadata": {},
   "outputs": [],
   "source": [
    "using Plots\n",
    "gr(size=(600,400))"
   ]
  },
  {
   "cell_type": "code",
   "execution_count": null,
   "metadata": {
    "scrolled": true
   },
   "outputs": [],
   "source": [
    "f(x) = exp(x) * x\n",
    "plot(f, 0, 1, c=:black)"
   ]
  },
  {
   "cell_type": "markdown",
   "metadata": {},
   "source": [
    "**Teorema do valor intermediário**: https://pt.khanacademy.org/math/ap-calculus-ab/ab-limits-new/ab-1-16/a/intermediate-value-theorem-review"
   ]
  },
  {
   "cell_type": "markdown",
   "metadata": {},
   "source": [
    "### Método da bissecção"
   ]
  },
  {
   "cell_type": "markdown",
   "metadata": {},
   "source": [
    "Método para identificar o zero da função a partir de múltiplos métodos de divisão (cortes) na função"
   ]
  },
  {
   "cell_type": "code",
   "execution_count": null,
   "metadata": {},
   "outputs": [],
   "source": [
    "f(x) = exp(x) * x - 1\n",
    "plot(f, 0, 1, c=:black)"
   ]
  },
  {
   "cell_type": "markdown",
   "metadata": {},
   "source": [
    "Ao sair dos extremos de entre 0 e ~2.7, vemos que o zero se encontre mais ou menos na metade.\n",
    "\n",
    "Tendo dois pontos A e B, considerando que A < 0 e B > 0, com certeza em algum lugar nesse intervalo a minha função passa por zero considerando que ela é contínua (ideia do teorema do valor intermediário)\n",
    "\n",
    "### Teorema\n",
    "\n",
    "Se f é contúnua em $[a, b]$ e $f(a)$ e $f(b)$ tem sinais opostos, então $a_k, b_k, x_k -> x'$, onde $x'$ é zero de  $f$\n",
    "\n",
    "### Método da bissecção\n",
    "\n",
    "- Dado $[a,b]$ com $f(a)*f(b) < 0$\n",
    "- Escolho c pertencente a $(a,b), (c = \\frac{a+b}{2})$\n",
    "- Se $f(c)=0$, Fim\n",
    "- Senão $f(a)*f(c) < 0$ ou $f(c)*f(b) < 0$, logo escolho o intervalo correspondente e repito"
   ]
  },
  {
   "cell_type": "code",
   "execution_count": null,
   "metadata": {},
   "outputs": [],
   "source": [
    "f(x) = x * exp(x) - 1\n",
    "a, b = 0.0, 1.0"
   ]
  },
  {
   "cell_type": "code",
   "execution_count": null,
   "metadata": {},
   "outputs": [],
   "source": [
    "# Passo 1: sinais opostos\n",
    "\n",
    "@assert f(a)*f(b) < 0 # Validado"
   ]
  },
  {
   "cell_type": "code",
   "execution_count": null,
   "metadata": {},
   "outputs": [],
   "source": [
    "# Passo 2: Validar extremos\n",
    "\n",
    "x = (a + b) / 2\n",
    "if f(a) * f(x) < 0\n",
    "    b = x\n",
    "else\n",
    "    a = x\n",
    "end\n",
    "x, f(x)"
   ]
  },
  {
   "cell_type": "markdown",
   "metadata": {},
   "source": [
    "### Critérios de parada de função\n",
    "\n",
    "Por conta do limite da máquina e pensando que o algoritmo precisa executar em um tempo finito, precisamos pensar em uma condição de parada.\n",
    "Diferentemente de um método, a diferença é sutil uma vez que um método poderá convergir para o infinito, já no algoritmo não.\n",
    "\n",
    "Para pensar na condição de parada, vamos pensar sobre o erro absoluto e o erro relativo\n",
    "\n",
    "#### Erro absoluto\n",
    "\n",
    "$$\n",
    "    | x - x'|\n",
    "$$\n",
    "\n",
    "#### Erro relativo\n",
    "\n",
    "$$\n",
    "    \\frac{| x - x'|}{|x|}\n",
    "$$\n",
    "\n",
    "Podemos escolher uma tolerância, escolhida pelo usuário, como critério de parada. \n",
    "Podemos definir o quanto de erro o usuário estará disposto a aceitar\n",
    "\n",
    "$|f(x) < E|$ onde E (epsilon) é a tolerância \n",
    "\n",
    "$$\n",
    "    |f(x)| < E_A + E_R * |f(x_0)|\n",
    "$$\n",
    "\n",
    "- $E_A$ => tolerância absoluta \n",
    "- $E_R$ => tolerância relativa\n",
    "\n",
    "**Nota:** O erro relativo nos ajuda a entender a ordem de grandeza do número que estamos trabalhando. \n",
    "Ex.: `R$ 1` perto de `R$ 1.000.000` é pouco, mas comparando com `R$ 2` é o dobro.\n",
    "\n",
    "**Nota 2:** Quando estamos trabalhando com funções bem comportadas e que possui uma estimativa boa do seu valor real, às vezes poderá ser usado somente a tolerância absoluta\n",
    "\n",
    "Considerando o esboço do algoritmo feito anteriormente e as tolerâncias apresentadas, podemos declarar como critério de parada do algoritmo sempre que estivermos muito próximo da tolerância, seja ela absoluta ou relativa. Logo, quando o intervalo estiver pequeno não precisaremos mais considerar realizar novamente o método pois o resultado esperado já estará sendo atendido.\n",
    "\n",
    "**Situações que podem demorar:**\n",
    "- muitas iterações sem convergir para um valor\n",
    "- número de avaliações de f grande, cada método que calcula $f(x)$\n",
    "- tempo (o método é caro)"
   ]
  },
  {
   "cell_type": "code",
   "execution_count": null,
   "metadata": {},
   "outputs": [],
   "source": [
    "# Implementação considerando que a função é contínua e situações que podem demorar\n",
    "\n",
    "function bisseccao(f, a, b; tol_absoluta = 1e-8, tol_relativa = 1e-8, tempo_maximo = 10.0, iteracao_maxima = 1000)\n",
    "    fa = f(a)\n",
    "    fb = f(b)\n",
    "    tolerancia = tol_absoluta + tol_relativa * max(abs(fa), abs(fb))\n",
    "    tolerancia_ab = tol_absoluta + tol_relativa * abs(b-a)\n",
    "    \n",
    "    if abs(fa) <= tolerancia\n",
    "        return a, fa, :sucesso\n",
    "    elseif abs(fb) <= tolerancia\n",
    "        return b, fb, :sucesso\n",
    "    elseif fa * fb >= 0\n",
    "        return a, fa, :falha_sinais_devem_ser_opostos\n",
    "    end\n",
    "    \n",
    "    x = (a + b) / 2\n",
    "    \n",
    "    \n",
    "    fx = f(x)\n",
    "    iteracao = 0\n",
    "    t0 = time()\n",
    "    variacao_tempo = time() - t0\n",
    "    \n",
    "    resolvido = (abs(fx) <= tolerancia || abs(b-a) <= tolerancia_ab)\n",
    "    iteracoes_demais = (iteracao >= iteracao_maxima || variacao_tempo >= tempo_maximo)\n",
    "    \n",
    "    while !(resolvido || iteracoes_demais)\n",
    "        \n",
    "        if fa * fx < 0\n",
    "            b = x\n",
    "            fb = fx\n",
    "        else\n",
    "            a = x\n",
    "            fa = fx\n",
    "        end\n",
    "        \n",
    "        x = (a + b) / 2\n",
    "        fx = f(x)\n",
    "        \n",
    "        \n",
    "        iteracao += 1\n",
    "        variacao_tempo = time() - t0\n",
    "        resolvido = (abs(fx) <= tolerancia || abs(b-a) <= tolerancia_ab)\n",
    "        iteracoes_demais = (iteracao >= iteracao_maxima || variacao_tempo >= tempo_maximo)\n",
    "    end\n",
    "    \n",
    "    status = :desconhecido\n",
    "    if resolvido\n",
    "        status = :sucesso\n",
    "    elseif iteracoes_demais\n",
    "        if iteracao >= iteracao_maxima\n",
    "            status = :maximo_de_iteracao_alcancada\n",
    "        else\n",
    "            status = :ttempo_maximo_alcancado\n",
    "        end\n",
    "    end\n",
    "    \n",
    "    return x, fx, status, iteracao\n",
    "    \n",
    "    \n",
    "end"
   ]
  },
  {
   "cell_type": "code",
   "execution_count": null,
   "metadata": {},
   "outputs": [],
   "source": [
    "f(x) = x * exp(x) - 1\n",
    "a, b = 0.0, 1.0\n",
    "\n",
    "bisseccao(f, a, b)"
   ]
  },
  {
   "cell_type": "code",
   "execution_count": null,
   "metadata": {},
   "outputs": [],
   "source": [
    "f(x) = (x * exp(x) - 1) * 1e8\n",
    "a, b = 0.0, 1.0\n",
    "\n",
    "bisseccao(f, a, b)"
   ]
  },
  {
   "cell_type": "code",
   "execution_count": null,
   "metadata": {},
   "outputs": [],
   "source": [
    "y = 0.5671432912349701\n",
    "y * exp(y) - 1"
   ]
  },
  {
   "cell_type": "markdown",
   "metadata": {},
   "source": [
    "### Calculando $sqrt(2)$"
   ]
  },
  {
   "cell_type": "markdown",
   "metadata": {},
   "source": [
    "Precisamos pegar um número x tal que ele elevado ao quadrado seja muito próximo de 2, com x > 0"
   ]
  },
  {
   "cell_type": "code",
   "execution_count": null,
   "metadata": {},
   "outputs": [],
   "source": [
    "g(x) = x^2 - 2\n",
    "a, b = 1.2, 2.0\n",
    "\n",
    "bisseccao(g, a, b)"
   ]
  },
  {
   "cell_type": "code",
   "execution_count": null,
   "metadata": {},
   "outputs": [],
   "source": [
    "# Fazendo a mesma aproximação, porém com 100 cadas decimais\n",
    "g(x) = x^2 - 2\n",
    "a, b = 1.2, 2.0\n",
    "\n",
    "bisseccao(g, a, b, tol_absoluta=1e-100, tol_relativa=0.0)"
   ]
  },
  {
   "cell_type": "code",
   "execution_count": null,
   "metadata": {
    "scrolled": true
   },
   "outputs": [],
   "source": [
    "# Fazendo a mesma aproximação, porém com 100 cadas decimais e com uma nova precisão de números do tipo Big float\n",
    "\n",
    "setprecision(512)\n",
    "\n",
    "g(x) = x^2 - 2\n",
    "a, b = big\"1.2\", big\"2.0\"\n",
    "\n",
    "bisseccao(g, a, b, tol_absoluta=1e-100, tol_relativa=0.0)"
   ]
  },
  {
   "cell_type": "code",
   "execution_count": null,
   "metadata": {
    "scrolled": true
   },
   "outputs": [],
   "source": [
    "sqrt(big\"2\")"
   ]
  },
  {
   "cell_type": "code",
   "execution_count": null,
   "metadata": {},
   "outputs": [],
   "source": [
    "# Exemplo com sqrt(3)\n",
    "\n",
    "h(x) = x^2 - 3\n",
    "a, b = 1.5, 2.0\n",
    "\n",
    "bisseccao(h, a, b, tol_absoluta=1e-100, tol_relativa=0.0)"
   ]
  },
  {
   "cell_type": "code",
   "execution_count": null,
   "metadata": {
    "scrolled": true
   },
   "outputs": [],
   "source": [
    "sqrt(3)"
   ]
  },
  {
   "cell_type": "markdown",
   "metadata": {},
   "source": [
    "### Exemplo com valor de parcelas (tabela price)"
   ]
  },
  {
   "cell_type": "markdown",
   "metadata": {},
   "source": [
    "https://mundoeducacao.uol.com.br/matematica/tabela-price.htm"
   ]
  },
  {
   "cell_type": "code",
   "execution_count": null,
   "metadata": {},
   "outputs": [],
   "source": [
    "qtd_parcelas = 48\n",
    "valor = 40_000\n",
    "parcela = 900\n",
    "function equacao_price(i) \n",
    "    if i == 0\n",
    "        return parcela - valor / qtd_parcelas\n",
    "    else\n",
    "        return parcela - valor * (1 + i)^qtd_parcelas * i / ((1 + i)^qtd_parcelas - 1)\n",
    "    end\n",
    "end\n",
    "bisseccao(equacao_price, 0.0, 1.0)"
   ]
  },
  {
   "cell_type": "code",
   "execution_count": null,
   "metadata": {
    "scrolled": true
   },
   "outputs": [],
   "source": [
    "equacao_price(0)"
   ]
  },
  {
   "cell_type": "markdown",
   "metadata": {},
   "source": [
    "### Considerações finais sobre o tópico 2\n",
    "\n",
    "O método é eficaz, mas com os testes vimos que às vezes é necessário muitas interações para ter uma precisão boa. Com isso, temos muitos passos para realizar o problema tornando o mesmo lento. Ele possui uma convergência linear, ou seja, a cada interação diminuimos pela metade o erro."
   ]
  },
  {
   "cell_type": "markdown",
   "metadata": {},
   "source": [
    "## 3. Lista de Exercícios - Polinômio de Taylor"
   ]
  },
  {
   "cell_type": "markdown",
   "metadata": {},
   "source": [
    "$$\n",
    "    Pn(x) = f(a) + f'(a)(x-a) + \\frac{f''(a)(x-a)^2}{2} + \\frac{f'''(a)(x-a)^3}{3!} + ... + \\frac{f'''(a)(x-a)^n}{n!} \n",
    "$$"
   ]
  },
  {
   "cell_type": "markdown",
   "metadata": {},
   "source": [
    "### 2. Seja f : [−a, a] → R a função definida por $f(x) = e^x$\n",
    "\n",
    "#### (a) Calcule o polinômio de Taylor $P_2(x)$ de ordem dois de f(x) na origem.\n"
   ]
  },
  {
   "cell_type": "markdown",
   "metadata": {},
   "source": [
    "Como todas as derivadas de $e^x$ é ele próprio e a função estar centrada na origem significa $a = 0$, temos que\n",
    "\n",
    "**Polinômio:**\n",
    "\n",
    "\n",
    "$$\n",
    "    Pn(x) = e^a + e^ax + \\frac{e^ax^2}{2} + ... + \\frac{e^ax^n}{n!}\n",
    "$$\n",
    "**Polinômio com a=0 e 2 termos:**\n",
    "\n",
    "Como $e^a = e^0 = 1$,\n",
    "\n",
    "$$\n",
    "    P_2(x) = 1 + x + \\frac{x^2}{2}\n",
    "$$\n",
    "\n"
   ]
  },
  {
   "cell_type": "markdown",
   "metadata": {},
   "source": [
    "#### (b) Qual o maior valor de a para o qual podemos usar $P_2(x)$ para aproximar f(x) com erro inferior a 0.005 em todo o intervalo [−a, a]?"
   ]
  },
  {
   "cell_type": "code",
   "execution_count": null,
   "metadata": {},
   "outputs": [],
   "source": [
    "function ex3_taylor_exp(x)\n",
    "    soma = 1.0\n",
    "    termo_anterior = 1.0\n",
    "    i = 1\n",
    "    \n",
    "    while soma + termo_anterior != soma\n",
    "        termo_anterior *= x / i\n",
    "        soma += termo_anterior\n",
    "        i +=1\n",
    "    end\n",
    "    return soma\n",
    "end"
   ]
  },
  {
   "cell_type": "code",
   "execution_count": null,
   "metadata": {},
   "outputs": [],
   "source": [
    "a = 0\n",
    "tolerancia = 0.005\n",
    "erro_absoluto = abs(ex3_taylor_exp(a) - exp(a))\n",
    "\n",
    "while erro_absoluto < tolerancia\n",
    "    a += 1\n",
    "    erro_absoluto = abs(ex3_taylor_exp(a) - exp(a))\n",
    "end\n",
    "\n",
    "println(a)"
   ]
  },
  {
   "cell_type": "code",
   "execution_count": null,
   "metadata": {},
   "outputs": [],
   "source": [
    "@assert abs(ex3_taylor_exp(30) - exp(30)) < 0.005"
   ]
  },
  {
   "cell_type": "code",
   "execution_count": null,
   "metadata": {
    "scrolled": false
   },
   "outputs": [],
   "source": [
    "@assert abs(ex3_taylor_exp(31) - exp(31)) < 0.005"
   ]
  },
  {
   "cell_type": "markdown",
   "metadata": {},
   "source": [
    "**Resposta:** O maior valor de a vale 30"
   ]
  },
  {
   "cell_type": "markdown",
   "metadata": {},
   "source": [
    "### 4. Use um polinômio de Taylor para aproximar $sqrt(1.01)$ corretamente em seis casas decimais. Defina explicitamente a função f (x) usada e o ponto em torno do qual o polinômio é calculado."
   ]
  },
  {
   "cell_type": "code",
   "execution_count": null,
   "metadata": {},
   "outputs": [],
   "source": [
    "x1, x2 = -1, 10.0\n",
    "plot(sqrt, x1, x2, c=:red)\n",
    "xlabel!(\"x\")\n",
    "ylabel!(\"f(x)\")\n",
    "title!(\"f(x) = sqrt\")"
   ]
  },
  {
   "cell_type": "code",
   "execution_count": null,
   "metadata": {},
   "outputs": [],
   "source": [
    "import Pkg; Pkg.add(\"Calculus\")\n",
    "using Calculus"
   ]
  },
  {
   "cell_type": "code",
   "execution_count": null,
   "metadata": {},
   "outputs": [],
   "source": [
    "f(x) = sqrt(x)"
   ]
  },
  {
   "cell_type": "code",
   "execution_count": null,
   "metadata": {
    "scrolled": true
   },
   "outputs": [],
   "source": [
    "n = 2\n",
    "a = 1\n",
    "x = 1.01\n",
    "\n",
    "derivada_calculada = derivative(f)\n",
    "derivada_no_ponto = derivada_calculada(a)\n",
    "\n",
    "soma = sqrt(a) + derivada_no_ponto*(x-a)\n",
    "\n",
    "proxima_derivada = derivative(derivada_calculada)\n",
    "\n",
    "while n < 10\n",
    "    \n",
    "    derivada_no_ponto = proxima_derivada(a)\n",
    "    \n",
    "    termo = derivada_no_ponto * ((x-a)^n)/factorial(n)\n",
    "    soma += termo\n",
    "    \n",
    "    println(soma)\n",
    "    \n",
    "    n += 1\n",
    "    proxima_derivada = derivative(proxima_derivada)\n",
    "end\n",
    "\n",
    "println(\"\\n\\n\")\n",
    "println(\"Soma: \", soma)\n",
    "println(\"Quantidade de termos: \", n-1)"
   ]
  },
  {
   "cell_type": "code",
   "execution_count": null,
   "metadata": {
    "scrolled": false
   },
   "outputs": [],
   "source": [
    "sqrt(1.01)"
   ]
  },
  {
   "cell_type": "markdown",
   "metadata": {},
   "source": [
    "**Resposta:** \n",
    "Perceba que escolhendo o ponto $a=1$ na primeira iteração já conseguimos ter 6 cadas decimais corretas na função $\\sqrt x$. Um ponto importante é que não podemos escolher $a=0$ pois teríamos uma divisão por zero e cairíamos nos números complexos. Portanto já na primeira iteração temos uma boa aproximação.\n",
    "\n"
   ]
  },
  {
   "cell_type": "markdown",
   "metadata": {},
   "source": [
    "### 5. Seja $f(x) = ln(x + 1)$. Aproxime $f(1.5)$ usando o polinômio de Taylor de terceira ordem. Quantos dı́gitos corretos possui a aproximação? Quantos termos deve ter o polinômio para o erro de truncamento ser menor que $10^-8$"
   ]
  },
  {
   "cell_type": "code",
   "execution_count": null,
   "metadata": {
    "scrolled": true
   },
   "outputs": [],
   "source": [
    "ln_x_mais_1(x) = log(ℯ, x + 1)\n",
    "x1, x2 = -10.0, 10.0"
   ]
  },
  {
   "cell_type": "code",
   "execution_count": null,
   "metadata": {},
   "outputs": [],
   "source": [
    "plot(ln_x_mais_1, x1, x2, c=:red)\n",
    "xlabel!(\"x\")\n",
    "ylabel!(\"f(x)\")\n",
    "title!(\"f(x) = ln(x+1)\")"
   ]
  },
  {
   "cell_type": "markdown",
   "metadata": {},
   "source": [
    "Sendo $f(x)$ a nossa função $ln(x + 1)$, iremos calcular suas derivadas de primeira, segunda e terceira ordem:\n",
    "\n",
    "\n",
    "Primeira ordem:\n",
    "$$\n",
    "    f'(x) = \\frac{1}{x + 1}\n",
    "$$\n",
    "\n",
    "Segunda ordem:\n",
    "$$\n",
    "    f''(x) = -\\frac{1}{(x+1)^2}\n",
    "$$\n",
    "\n",
    "Terceira ordem:\n",
    "$$\n",
    "    f'''(x) = \\frac{2}{(x+1)^3}\n",
    "$$\n",
    "\n",
    "Por Taylor, o polinômio de terceira ordem é dado por\n",
    "\n",
    "$$\n",
    "    P_3(x) = f(a) + f'(a)(x-a) + \\frac{f''(a)(x-a)^2}{2} + \\frac{f'''(a)(x-a)^3}{3!}\n",
    "$$\n",
    "\n",
    "\n",
    "Observando as derivadas e substituindo pela função, temos que\n",
    "\n",
    "$$\n",
    "    P_3(x) = ln(a + 1) +  \\frac{x-a}{a+1} - \\frac{(x-a)^2}{2*(a+1)} + \\frac{2*(x-a)^3}{3!*(a+1)}\n",
    "$$\n",
    "\n",
    "Vamos criar uma função que calcula a aproximação em Julia"
   ]
  },
  {
   "cell_type": "code",
   "execution_count": null,
   "metadata": {
    "scrolled": false
   },
   "outputs": [],
   "source": [
    "ln(x) = log(ℯ, x)"
   ]
  },
  {
   "cell_type": "markdown",
   "metadata": {},
   "source": [
    "Observando a série vamos fazer uma aproximação genérica do polinômio de Taylor considerando o ponto em torno da origem.\n",
    "\n",
    "Repare que se continuarmos nas derivadas vamos ver um padrão acontecer, os termos sempre vão pegar o fatorial do termo anterior na expressão, com isso podemos realizar a seguinte simplificação\n",
    "\n",
    "$$\n",
    "    P_n(x) = x - \\frac{x^2}{2} + \\frac{2*x^3}{3!} - \\frac{6*x^4}{4!} + ... + \\frac{N_{n-1}!*x^n}{n!} \n",
    "$$\n",
    "\n",
    "Podemos tornar ainda mais genérico fazendo como a soma de 1 até a quantidade de quisermos\n",
    "\n",
    "$$\n",
    "    P_n(x) = (-1)^{n+1} * \\frac{x^n}{n}\n",
    "$$"
   ]
  },
  {
   "cell_type": "code",
   "execution_count": null,
   "metadata": {},
   "outputs": [],
   "source": [
    "# Calculando ao redor do ponto a = 0 com 3 termos\n",
    "n = 3\n",
    "\n",
    "pn(x) = (-1)^(n+1) * (x^n)/n"
   ]
  },
  {
   "cell_type": "code",
   "execution_count": null,
   "metadata": {
    "scrolled": true
   },
   "outputs": [],
   "source": [
    "pn(1.5)"
   ]
  },
  {
   "cell_type": "markdown",
   "metadata": {},
   "source": [
    "Repare que esse resultado está estranho, vamos recalcular considerando o ponto 1 pois está mais próximo de 1.5"
   ]
  },
  {
   "cell_type": "code",
   "execution_count": null,
   "metadata": {},
   "outputs": [],
   "source": [
    "# Calculando ao redor do ponto a = 1\n",
    "a = 1\n",
    "\n",
    "# Função calculada por aproximação de Taylor no ponto a \n",
    "ex3_taylor_ln_p3_generica(x) = ln(a+1) + (x-a)/(a+1) - ((x-a)^2) / (2*(a+1)^2) + (2*(x-a)^3)/(factorial(3)*(a+1)^3)"
   ]
  },
  {
   "cell_type": "code",
   "execution_count": null,
   "metadata": {
    "scrolled": true
   },
   "outputs": [],
   "source": [
    "ex3_taylor_ln_p3_generica(1.5)"
   ]
  },
  {
   "cell_type": "code",
   "execution_count": null,
   "metadata": {},
   "outputs": [],
   "source": [
    "# Função criada de ln\n",
    "ln_x_mais_1(1.5)"
   ]
  },
  {
   "cell_type": "code",
   "execution_count": null,
   "metadata": {
    "scrolled": true
   },
   "outputs": [],
   "source": [
    "@assert abs(ln_x_mais_1(1.5) - ex3_taylor_ln_p3_generica(0)) < 1e-8"
   ]
  },
  {
   "cell_type": "markdown",
   "metadata": {},
   "source": [
    "Repare que conseguimos uma aproximação melhor, mas só conseguimos dois dígitos corretos. Vamos calcular os termos para melhorar a aproximação"
   ]
  },
  {
   "cell_type": "markdown",
   "metadata": {},
   "source": [
    "Observando a série vamos fazer uma aproximação genérica do polinômio de Taylor\n",
    "\n",
    "\n",
    "$$\n",
    "    P_n(x) = ln(a + 1) + \\frac{x-a}{a+1} - \\frac{(x-a)^2}{2*(a+1)^2} + \\frac{2*(x-a)^3}{3!*(a+1)^3} - \\frac{3!(x-a)^4}{4!*(a+1)^4} + ... +     \\frac{N_{n - 1}!*(x-a)^N}{N!*(a+1)^N}\n",
    "$$\n",
    "\n",
    "Sabemos que $N! = N * N_{n-1}!$, então\n",
    "\n",
    "$$\n",
    "    P_n(x) = ln(a + 1) + \\frac{x-a}{a+1} - \\frac{(x-a)^2}{2*(a+1)^2} + \\frac{(x-a)^3}{3*(a+1)^3} - \\frac{(x-a)^4}{4*(a+1)^4} + ... +     \\frac{(x-a)^N}{N*(a+1)^N}\n",
    "$$\n"
   ]
  },
  {
   "cell_type": "code",
   "execution_count": null,
   "metadata": {},
   "outputs": [],
   "source": [
    "n = 2\n",
    "a = 1\n",
    "soma = ln(a + 1) + (x-a)/(a+1)\n",
    "sinal = -1\n",
    "x= 1.5\n",
    "\n",
    "erro_relativo = abs(soma - ln_x_mais_1(1.5))\n",
    "\n",
    "while erro_relativo > 1e-8\n",
    "    termo = sinal * (x-a)^n/(n*(a+1)^n)\n",
    "    \n",
    "    soma += termo\n",
    "    sinal *= -1\n",
    "    n += 1\n",
    "    \n",
    "    erro_relativo = abs(soma - ln_x_mais_1(1.5))\n",
    "    \n",
    "#     println(erro_relativo)\n",
    "    \n",
    "end\n",
    "\n",
    "println(\"\\n\\n\")\n",
    "println(\"Soma: \", soma)\n",
    "println(\"Quantidade de termos: \", n-1)"
   ]
  },
  {
   "cell_type": "code",
   "execution_count": null,
   "metadata": {},
   "outputs": [],
   "source": [
    "ln_x_mais_1(1.5)"
   ]
  },
  {
   "cell_type": "code",
   "execution_count": null,
   "metadata": {},
   "outputs": [],
   "source": [
    "@assert abs(soma - ln_x_mais_1(1.5)) < 1e-8"
   ]
  },
  {
   "cell_type": "markdown",
   "metadata": {},
   "source": [
    "**Resposta:**\n",
    "\n",
    "Dois dígitos foram corretos com o polinômio de terceira ordem e a ordem deve ser de 11 para o erro ser menor que $10^{-8}$"
   ]
  },
  {
   "cell_type": "markdown",
   "metadata": {},
   "source": [
    "## 4. Lista de Exercı́cios - Zeros de Funções Reais"
   ]
  },
  {
   "cell_type": "code",
   "execution_count": null,
   "metadata": {},
   "outputs": [],
   "source": [
    "using Plots\n",
    "gr(size=(600,400))"
   ]
  },
  {
   "cell_type": "code",
   "execution_count": null,
   "metadata": {},
   "outputs": [],
   "source": [
    "function calculo_bisseccao(f, a, b; precisao = 1e-8, iteracao_maxima=nothing)\n",
    "    fa = f(a)\n",
    "    fb = f(b)\n",
    "    \n",
    "\n",
    "    if abs(fa) <= precisao\n",
    "        return a, fa\n",
    "    elseif abs(fb) <= precisao\n",
    "        return b, fb\n",
    "    elseif fa * fb >= 0\n",
    "        return \"Os sinais da função no ponto especificado devem ser opostos\"\n",
    "    end\n",
    "\n",
    "    \n",
    "    x = (a + b) / 2\n",
    "    fx = f(x)\n",
    "    \n",
    "    qtd_iteracoes = 0\n",
    "    \n",
    "    \n",
    "    while (abs(fx) > precisao)\n",
    "        \n",
    "        if qtd_iteracoes == iteracao_maxima\n",
    "            break\n",
    "        end\n",
    "        \n",
    "        if fa * fx < 0\n",
    "            b = x\n",
    "            fb = fx\n",
    "        else\n",
    "            a = x\n",
    "            fa = fx\n",
    "        end\n",
    "        \n",
    "        x = (a + b) / 2\n",
    "        fx = f(x)\n",
    "        \n",
    "\n",
    "        qtd_iteracoes += 1\n",
    "    end\n",
    "    \n",
    "    \n",
    "    return x, fx, qtd_iteracoes\n",
    "    \n",
    "    \n",
    "end"
   ]
  },
  {
   "cell_type": "markdown",
   "metadata": {},
   "source": [
    "### 1- Utilize o método da bissecção para encontrar uma solução com precisão de $10^5$ para os seguintes problemas:\n",
    "\n",
    "#### (a) $3x − 2 x = 0$ para $0 ≤ x ≤ 1$.\n",
    "\n"
   ]
  },
  {
   "cell_type": "code",
   "execution_count": null,
   "metadata": {},
   "outputs": [],
   "source": [
    "f1a(x) = 3*x - 2^x\n",
    "x1, x2 = 0.0, 1.0\n",
    "\n",
    "calculo_bisseccao(f1a, x1, x2, precisao=1e-5)"
   ]
  },
  {
   "cell_type": "code",
   "execution_count": null,
   "metadata": {
    "scrolled": true
   },
   "outputs": [],
   "source": [
    "plot(f1a, x1, x2, c=:red)\n",
    "xlabel!(\"x\")\n",
    "ylabel!(\"f(x)\")\n",
    "title!(\"f(x) = 3x - 2^x\")"
   ]
  },
  {
   "cell_type": "markdown",
   "metadata": {},
   "source": [
    "**Resposta questão 1.a):**\n",
    "\n",
    "Solução = $0.45782470703125$"
   ]
  },
  {
   "cell_type": "markdown",
   "metadata": {},
   "source": [
    "(b) $x*cos(x) − 2x^2 + 3x − 1 = 0$ para $0, 2 ≤ x ≤ 0, 3$ e $1, 2 ≤ x ≤ 1, 3$."
   ]
  },
  {
   "cell_type": "code",
   "execution_count": null,
   "metadata": {},
   "outputs": [],
   "source": [
    "f1b(x) = x*cos(x) - 2x^2 + 3x - 1 \n",
    "x1, x2 = 0.2, 0.3\n",
    "\n",
    "calculo_bisseccao(f1b, x1, x2, precisao=1e-5)"
   ]
  },
  {
   "cell_type": "code",
   "execution_count": null,
   "metadata": {
    "scrolled": true
   },
   "outputs": [],
   "source": [
    "plot(f1b, x1, x2, c=:red)\n",
    "xlabel!(\"x\")\n",
    "ylabel!(\"f(x)\")\n",
    "title!(\"f(x) = x*cos(x) − 2x^2 + 3x − 1\")"
   ]
  },
  {
   "cell_type": "code",
   "execution_count": null,
   "metadata": {},
   "outputs": [],
   "source": [
    "nothing"
   ]
  },
  {
   "cell_type": "code",
   "execution_count": null,
   "metadata": {},
   "outputs": [],
   "source": [
    "1 == nothing"
   ]
  },
  {
   "cell_type": "markdown",
   "metadata": {},
   "source": [
    "**Resposta questão 1.b) para 0.2 ≤ x ≤ 0.3:**\n",
    "\n",
    "Solução = $0.29752807617187504$"
   ]
  },
  {
   "cell_type": "code",
   "execution_count": null,
   "metadata": {
    "scrolled": true
   },
   "outputs": [],
   "source": [
    "f1b(x) = x*cos(x) - 2x^2 + 3x - 1 \n",
    "x1, x2 = 1.2, 1.3\n",
    "\n",
    "calculo_bisseccao(f1b, x1, x2, precisao=1e-5)"
   ]
  },
  {
   "cell_type": "code",
   "execution_count": null,
   "metadata": {
    "scrolled": true
   },
   "outputs": [],
   "source": [
    "plot(f1b, x1, x2, c=:red)\n",
    "xlabel!(\"x\")\n",
    "ylabel!(\"f(x)\")\n",
    "title!(\"f(x) = x*cos(x) − 2x^2 + 3x − 1\")"
   ]
  },
  {
   "cell_type": "markdown",
   "metadata": {},
   "source": [
    "**Resposta questão 1.b) para 1.2 ≤ x ≤ 1.3:**\n",
    "\n",
    "Solução = $1.256622314453125$"
   ]
  },
  {
   "cell_type": "markdown",
   "metadata": {},
   "source": [
    "<!-- ### 2. Encontre o número máximo de iterações necessário para obter, com uma precisão de $10^−3$ , a solução de $x^3 + x − 4 = 0$ que se encontra no intervalo $[1 : 2]$ usando o método da bissecção. -->"
   ]
  },
  {
   "cell_type": "code",
   "execution_count": null,
   "metadata": {
    "scrolled": true
   },
   "outputs": [],
   "source": [
    "f2(x) = x^3 + x - 4\n",
    "x1, x2 = 1, 2\n",
    "\n",
    "calculo_bisseccao(f2, x1, x2, precisao=1e-3)"
   ]
  },
  {
   "cell_type": "code",
   "execution_count": null,
   "metadata": {
    "scrolled": true
   },
   "outputs": [],
   "source": [
    "# x = 1.3828125\n",
    "# funcao = x^3 + x - 4\n",
    "\n",
    "# println(funcao)\n",
    "\n",
    "# println(abs(funcao) > 1e-3)"
   ]
  },
  {
   "cell_type": "markdown",
   "metadata": {},
   "source": [
    "Nota: Aqui o valor achei bem diferente e se formos avaliar a função ela possui raizes imaginárias"
   ]
  },
  {
   "cell_type": "code",
   "execution_count": null,
   "metadata": {
    "scrolled": true
   },
   "outputs": [],
   "source": [
    "plot(f2, x1, x2, c=:red)\n",
    "xlabel!(\"x\")\n",
    "ylabel!(\"f2(x)\")\n",
    "title!(\"f2(x) = x^3 + x - 4\")"
   ]
  },
  {
   "cell_type": "markdown",
   "metadata": {},
   "source": [
    "**Resposta questão 2:**\n",
    "\n",
    "Valor $1.37890625$ para 7 iterações"
   ]
  },
  {
   "cell_type": "markdown",
   "metadata": {},
   "source": [
    "### 6. Considere a função $f (x) = \\frac{x^2}{2} + x (ln(x) - 1)$. Obtenha seus pontos crı́ticos com o auxı́lio de um método para zeros de funções."
   ]
  },
  {
   "cell_type": "markdown",
   "metadata": {},
   "source": [
    "Primeiro vamos entender a função que estamos trabalhando"
   ]
  },
  {
   "cell_type": "code",
   "execution_count": null,
   "metadata": {},
   "outputs": [],
   "source": [
    "ℯ"
   ]
  },
  {
   "cell_type": "code",
   "execution_count": null,
   "metadata": {
    "scrolled": true
   },
   "outputs": [],
   "source": [
    "base = ℯ\n",
    "println(\"Base: \", base)\n",
    "\n",
    "ln(x) = log(base, x)"
   ]
  },
  {
   "cell_type": "code",
   "execution_count": null,
   "metadata": {},
   "outputs": [],
   "source": [
    "ln(0)"
   ]
  },
  {
   "cell_type": "code",
   "execution_count": null,
   "metadata": {
    "scrolled": true
   },
   "outputs": [],
   "source": [
    "f6(x) = x^2/2 + x*(ln(x) - 1)\n",
    "x1, x2 = -5, 5\n",
    "\n",
    "plot(f6, x1, x2, c=:red)\n",
    "xlabel!(\"x\")\n",
    "ylabel!(\"f6(x)\")\n",
    "title!(\"f6(x) = x/2 + x*(ln(x) - 1)\")"
   ]
  },
  {
   "cell_type": "markdown",
   "metadata": {},
   "source": [
    "Para calcular o ponto crítico, precisamos identificar todos os picos e vales da função. Olhando para o gráfico, vemos que ele cresce exponencialmente. Assim, só iremos encontrar um vale como pico da função (derivada nula).\n",
    "\n",
    "Identificar esses pontos é o mesmo que encontrar os zeros de função de sua derivada. \n",
    "\n",
    "Calculando a derivada de $f(x) = \\frac{x^2}{2} + x (ln(x) − 1)$ e utilizando a regra da cadeia temos o seguinte:\n",
    "\n",
    "$$\n",
    "    f'(x) = x + 1*(ln(x) - 1) + x*(\\frac{1}{x}) => x + ln(x) -1 + 1 => x + ln(x)\n",
    "$$\n",
    "\n",
    "Agora vamos calcular o zero de função para a função $f'(x)$"
   ]
  },
  {
   "cell_type": "code",
   "execution_count": null,
   "metadata": {
    "scrolled": true
   },
   "outputs": [],
   "source": [
    "# Nota: poderíamos também usar a função de derivada com o Julia, mas vamos nos divertir um pouco fazendo na mão\n",
    "# https://juliapackages.com/p/calculus\n",
    "\n",
    "import Pkg; Pkg.add(\"Calculus\")\n",
    "using Calculus\n",
    "\n",
    "t(x) = 2x\n",
    "l = derivative(t)\n",
    "trunc(Int64, l(1))"
   ]
  },
  {
   "cell_type": "code",
   "execution_count": null,
   "metadata": {},
   "outputs": [],
   "source": [
    "ln(x) = log(ℯ, x)"
   ]
  },
  {
   "cell_type": "code",
   "execution_count": null,
   "metadata": {
    "scrolled": true
   },
   "outputs": [],
   "source": [
    "f6(x) = x + ln(x)\n",
    "x1, x2 = -1, 10\n",
    "\n",
    "calculo_bisseccao(f6_derivate, x1, x2)"
   ]
  },
  {
   "cell_type": "markdown",
   "metadata": {},
   "source": [
    "Repare que tivemos um erro, isso por que quando definimos log de um número negativo caimos nos números complexos.\n",
    "\n",
    "Levando em consideração pela fórmula de Euler que $\\pi*i = ln(-1)$, podemos chutar um valor negativo como o -2 e lidar com o seguinte para calcular na derivada da função $f'(x) = x + ln(x)$\n",
    "\n",
    "$$\n",
    "    f'(-2) = -2 + ln(-2) = -2 + ln(-1 * 2) => -2 + ln(-1) + ln(2)\n",
    "$$\n",
    "\n",
    "Como $ln(-1) = \\pi*i$, então\n",
    "\n",
    "$$\n",
    "    f'(-2) = -2 + \\pi*i + ln(2)\n",
    "$$"
   ]
  },
  {
   "cell_type": "code",
   "execution_count": null,
   "metadata": {},
   "outputs": [],
   "source": [
    "function ln_complexa(x)\n",
    "    if x >= 0\n",
    "        return log(ℯ, x)\n",
    "    else\n",
    "        parte_positiva = x * (-1)\n",
    "        parte_compelxa = π * 1im #im corresponde ao número complexo i\n",
    "        \n",
    "        return log(ℯ, parte_positiva) + parte_compelxa\n",
    "    end\n",
    "    \n",
    "end"
   ]
  },
  {
   "cell_type": "code",
   "execution_count": null,
   "metadata": {
    "scrolled": true
   },
   "outputs": [],
   "source": [
    "ln_complexa(-2.0)"
   ]
  },
  {
   "cell_type": "code",
   "execution_count": null,
   "metadata": {
    "scrolled": true
   },
   "outputs": [],
   "source": [
    "f6_derivate_complexa(x) = x + ln_complexa(x)"
   ]
  },
  {
   "cell_type": "code",
   "execution_count": null,
   "metadata": {},
   "outputs": [],
   "source": [
    "f6_derivate_complexa(-1)"
   ]
  },
  {
   "cell_type": "code",
   "execution_count": null,
   "metadata": {
    "scrolled": true
   },
   "outputs": [],
   "source": [
    "x1, x2 = -1, 10.0\n",
    "\n",
    "calculo_bisseccao(f6_derivate_complexa, x1, x2)"
   ]
  },
  {
   "cell_type": "markdown",
   "metadata": {},
   "source": [
    "Aqui temos um problema, pois mesmo resolvendo a situação dos números complexos, não conseguimos realizar comparações de números complexos com operadores lógicos. Vamos realizar um novo chute, mas dessa vez colocando $a= 0$"
   ]
  },
  {
   "cell_type": "code",
   "execution_count": null,
   "metadata": {
    "scrolled": true
   },
   "outputs": [],
   "source": [
    "a = 0\n",
    "f6_derivate_complexa(a)"
   ]
  },
  {
   "cell_type": "markdown",
   "metadata": {},
   "source": [
    "Quando calculamos a derivada de f6 no ponto a, vemos que ela converge para o -Inf. Isso também é um problema, então vamos plotar o gráfico da nossa função para melhorar o chute"
   ]
  },
  {
   "cell_type": "code",
   "execution_count": null,
   "metadata": {
    "scrolled": true
   },
   "outputs": [],
   "source": [
    "f6(x) = x + ln(x)\n",
    "x1, x2 = -2, 15\n",
    "\n",
    "plot(f6, x1, x2, c=:red)\n",
    "xlabel!(\"x\")\n",
    "ylabel!(\"f6'(x)\")\n",
    "title!(\"f6'(x) = x + ln(x)\")"
   ]
  },
  {
   "cell_type": "markdown",
   "metadata": {},
   "source": [
    "Olhando para o gráfico, observamos que um bom chute é andar um pequeno passo para a direita do zero, vamos então tentar com $0.1$"
   ]
  },
  {
   "cell_type": "code",
   "execution_count": null,
   "metadata": {
    "scrolled": true
   },
   "outputs": [],
   "source": [
    "x1, x2 = 0.1, 10.0\n",
    "\n",
    "calculo_bisseccao(f6_derivate_complexa, x1, x2)"
   ]
  },
  {
   "cell_type": "markdown",
   "metadata": {},
   "source": [
    "**Resposta questão 6:**\n",
    "\n",
    "Valor $0.5671432928182185$"
   ]
  },
  {
   "cell_type": "markdown",
   "metadata": {},
   "source": [
    "### Questão 7 a) A função $f(x) = tan(\\pi*x) - 6$ tem um zero em $\\frac{1}{\\pi} arctan(6) ≈ 0,447431543$. Use 10 iterações para cada um dos seguintes métodos para calcular o valor aproximado dessa raiz: Método da bissecção, com a = 0 e b = 0, 48"
   ]
  },
  {
   "cell_type": "code",
   "execution_count": null,
   "metadata": {},
   "outputs": [],
   "source": [
    "f7(x) = tan(π*x) - 6\n",
    "x1, x2 = 0, 0.48\n",
    "\n",
    "plot(f6, x1, x2, c=:red)\n",
    "xlabel!(\"x\")\n",
    "ylabel!(\"f7(x)\")\n",
    "title!(\"f7(x) = tan(π*x) - 6\")"
   ]
  },
  {
   "cell_type": "code",
   "execution_count": null,
   "metadata": {},
   "outputs": [],
   "source": [
    "f7(x) = tan(π*x) - 6\n",
    "\n",
    "x1, x2 = 0, 0.48\n",
    "\n",
    "calculo_bisseccao(f7, x1, x2, iteracao_maxima=10)"
   ]
  },
  {
   "cell_type": "code",
   "execution_count": null,
   "metadata": {},
   "outputs": [],
   "source": [
    "@assert 0.44742187499999997 ≈ 1/π * atan(6)"
   ]
  },
  {
   "cell_type": "code",
   "execution_count": null,
   "metadata": {},
   "outputs": [],
   "source": [
    "f7(x) = tan(π*x) - 6\n",
    "\n",
    "x1, x2 = 0, 0.48\n",
    "\n",
    "calculo_bisseccao(f7, x1, x2)"
   ]
  },
  {
   "cell_type": "code",
   "execution_count": null,
   "metadata": {},
   "outputs": [],
   "source": [
    "@assert 0.4474315432459115 ≈ 1/π * atan(6)"
   ]
  },
  {
   "cell_type": "markdown",
   "metadata": {},
   "source": [
    "Repare que com 10 iterações já temos uma boa aproximação inicial mas não é tanto precisa, tanto que não conseguimos nos aproximar tanto da função original. Quando aumentamos a iteração conseguimos aproximar melhor do valor original e não tivemos erro na validação com a aproximação da função original"
   ]
  },
  {
   "cell_type": "markdown",
   "metadata": {},
   "source": [
    "**Resposta questão 7:**\n",
    "\n",
    "Valor $0.44742187499999997$ para 10 iterações"
   ]
  }
 ],
 "metadata": {
  "kernelspec": {
   "display_name": "Julia 1.5.3",
   "language": "julia",
   "name": "julia-1.5"
  },
  "language_info": {
   "file_extension": ".jl",
   "mimetype": "application/julia",
   "name": "julia",
   "version": "1.5.3"
  }
 },
 "nbformat": 4,
 "nbformat_minor": 4
}
